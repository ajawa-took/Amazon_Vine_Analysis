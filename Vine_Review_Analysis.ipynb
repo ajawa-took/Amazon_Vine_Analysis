{
  "nbformat": 4,
  "nbformat_minor": 0,
  "metadata": {
    "colab": {
      "provenance": [],
      "collapsed_sections": []
    },
    "kernelspec": {
      "name": "python3",
      "display_name": "Python 3"
    },
    "nteract": {
      "version": "0.12.3"
    },
    "language_info": {
      "name": "python"
    }
  },
  "cells": [
    {
      "cell_type": "markdown",
      "source": [
        "### Import and install and start a spark session"
      ],
      "metadata": {
        "id": "_UjlkEis6vau"
      }
    },
    {
      "cell_type": "code",
      "metadata": {
        "id": "V58rxea0HqSa",
        "colab": {
          "base_uri": "https://localhost:8080/"
        },
        "outputId": "ff76a1dc-8b64-4b96-f461-61dde5b5b8a0"
      },
      "source": [
        "# in starter-code, spark-3.0.3 hadoop 2.7; current is spark-3.3.0 hadoop3\n",
        "\n",
        "import os\n",
        "# Find the latest version of spark 3.0 from http://www.apache.org/dist/spark/ and enter as the spark version\n",
        "# For example:\n",
        "# spark_version = 'spark-3.3.0'\n",
        "spark_version = 'spark-3.3.0'\n",
        "os.environ['SPARK_VERSION']=spark_version\n",
        "\n",
        "# Install Spark and Java\n",
        "!apt-get update\n",
        "!apt-get install openjdk-11-jdk-headless -qq > /dev/null\n",
        "!wget -q http://www.apache.org/dist/spark/$SPARK_VERSION/$SPARK_VERSION-bin-hadoop3.tgz\n",
        "!tar xf $SPARK_VERSION-bin-hadoop3.tgz\n",
        "!pip install -q findspark\n",
        "\n",
        "# Set Environment Variables\n",
        "import os\n",
        "os.environ[\"JAVA_HOME\"] = \"/usr/lib/jvm/java-11-openjdk-amd64\"\n",
        "os.environ[\"SPARK_HOME\"] = f\"/content/{spark_version}-bin-hadoop3\"\n",
        "\n",
        "# Start a SparkSession\n",
        "import findspark\n",
        "findspark.init()"
      ],
      "execution_count": 1,
      "outputs": [
        {
          "output_type": "stream",
          "name": "stdout",
          "text": [
            "\r0% [Working]\r            \rHit:1 http://archive.ubuntu.com/ubuntu bionic InRelease\n",
            "\r0% [Waiting for headers] [Connecting to security.ubuntu.com (185.125.190.36)] [\r0% [1 InRelease gpgv 242 kB] [Waiting for headers] [Waiting for headers] [Conne\r                                                                               \rGet:2 http://archive.ubuntu.com/ubuntu bionic-updates InRelease [88.7 kB]\n",
            "\r0% [1 InRelease gpgv 242 kB] [2 InRelease 14.2 kB/88.7 kB 16%] [Waiting for hea\r                                                                               \rHit:3 https://cloud.r-project.org/bin/linux/ubuntu bionic-cran40/ InRelease\n",
            "Get:4 http://security.ubuntu.com/ubuntu bionic-security InRelease [88.7 kB]\n",
            "Ign:5 https://developer.download.nvidia.com/compute/machine-learning/repos/ubuntu1804/x86_64  InRelease\n",
            "Hit:6 http://ppa.launchpad.net/c2d4u.team/c2d4u4.0+/ubuntu bionic InRelease\n",
            "Hit:7 https://developer.download.nvidia.com/compute/cuda/repos/ubuntu1804/x86_64  InRelease\n",
            "Get:8 http://archive.ubuntu.com/ubuntu bionic-backports InRelease [83.3 kB]\n",
            "Hit:9 https://developer.download.nvidia.com/compute/machine-learning/repos/ubuntu1804/x86_64  Release\n",
            "Hit:10 http://ppa.launchpad.net/cran/libgit2/ubuntu bionic InRelease\n",
            "Hit:11 http://ppa.launchpad.net/deadsnakes/ppa/ubuntu bionic InRelease\n",
            "Hit:12 http://ppa.launchpad.net/graphics-drivers/ppa/ubuntu bionic InRelease\n",
            "Get:13 http://archive.ubuntu.com/ubuntu bionic-updates/restricted amd64 Packages [1,230 kB]\n",
            "Get:14 http://archive.ubuntu.com/ubuntu bionic-updates/main amd64 Packages [3,452 kB]\n",
            "Get:16 http://security.ubuntu.com/ubuntu bionic-security/restricted amd64 Packages [1,187 kB]\n",
            "Fetched 6,129 kB in 5s (1,234 kB/s)\n",
            "Reading package lists... Done\n"
          ]
        }
      ]
    },
    {
      "cell_type": "code",
      "metadata": {
        "id": "_xKwTpATHqSe",
        "colab": {
          "base_uri": "https://localhost:8080/"
        },
        "outputId": "32c81d3e-d7a9-47ff-b547-55ee85f15125"
      },
      "source": [
        "# Download the Postgres driver that will allow Spark to interact with Postgres.\n",
        "!wget https://jdbc.postgresql.org/download/postgresql-42.2.16.jar"
      ],
      "execution_count": 2,
      "outputs": [
        {
          "output_type": "stream",
          "name": "stdout",
          "text": [
            "--2022-10-14 00:39:39--  https://jdbc.postgresql.org/download/postgresql-42.2.16.jar\n",
            "Resolving jdbc.postgresql.org (jdbc.postgresql.org)... 72.32.157.228, 2001:4800:3e1:1::228\n",
            "Connecting to jdbc.postgresql.org (jdbc.postgresql.org)|72.32.157.228|:443... connected.\n",
            "HTTP request sent, awaiting response... 200 OK\n",
            "Length: 1002883 (979K) [application/java-archive]\n",
            "Saving to: ‘postgresql-42.2.16.jar.1’\n",
            "\n",
            "postgresql-42.2.16. 100%[===================>] 979.38K  1.99MB/s    in 0.5s    \n",
            "\n",
            "2022-10-14 00:39:40 (1.99 MB/s) - ‘postgresql-42.2.16.jar.1’ saved [1002883/1002883]\n",
            "\n"
          ]
        }
      ]
    },
    {
      "cell_type": "code",
      "metadata": {
        "id": "MMqDAjVS0KN9"
      },
      "source": [
        "from pyspark.sql import SparkSession\n",
        "spark = SparkSession.builder.appName(\"M16-Amazon-Challenge\").config(\"spark.driver.extraClassPath\",\"/content/postgresql-42.2.16.jar\").getOrCreate()"
      ],
      "execution_count": 3,
      "outputs": []
    },
    {
      "cell_type": "markdown",
      "metadata": {
        "id": "cyBsySGuY-9V"
      },
      "source": [
        "### Load Amazon Data into Spark DataFrame"
      ]
    },
    {
      "cell_type": "code",
      "metadata": {
        "id": "CtCmBhQJY-9Z"
      },
      "source": [
        "from pyspark import SparkFiles\n",
        "url = \"https://s3.amazonaws.com/amazon-reviews-pds/tsv/amazon_reviews_us_Kitchen_v1_00.tsv.gz\"\n",
        "spark.sparkContext.addFile(url)"
      ],
      "execution_count": 4,
      "outputs": []
    },
    {
      "cell_type": "code",
      "source": [
        "import pyspark.sql.functions as F\n",
        "# Read in the Review dataset as a DataFrame\n",
        "df = spark.read.option(\"encoding\", \"UTF-8\").csv(SparkFiles.get(\"\"), sep=\"\\t\", header=True, inferSchema=True)\n",
        "df.show()"
      ],
      "metadata": {
        "colab": {
          "base_uri": "https://localhost:8080/"
        },
        "id": "f6cIfEVqRrE_",
        "outputId": "90fd91f6-b16a-48f4-93c7-0d935c6b38ac"
      },
      "execution_count": 5,
      "outputs": [
        {
          "output_type": "stream",
          "name": "stdout",
          "text": [
            "+-----------+-----------+--------------+----------+--------------+--------------------+----------------+-----------+-------------+-----------+----+-----------------+--------------------+--------------------+-------------------+\n",
            "|marketplace|customer_id|     review_id|product_id|product_parent|       product_title|product_category|star_rating|helpful_votes|total_votes|vine|verified_purchase|     review_headline|         review_body|        review_date|\n",
            "+-----------+-----------+--------------+----------+--------------+--------------------+----------------+-----------+-------------+-----------+----+-----------------+--------------------+--------------------+-------------------+\n",
            "|         US|   37000337|R3DT59XH7HXR9K|B00303FI0G|     529320574|Arthur Court Pape...|         Kitchen|          5|            0|          0|   N|                Y|Beautiful. Looks ...|Beautiful.  Looks...|2015-08-31 00:00:00|\n",
            "|         US|   15272914|R1LFS11BNASSU8|B00JCZKZN6|     274237558|Olde Thompson Bav...|         Kitchen|          5|            0|          1|   N|                Y| Awesome & Self-ness|I personally have...|2015-08-31 00:00:00|\n",
            "|         US|   36137863|R296RT05AG0AF6|B00JLIKA5C|     544675303|Progressive Inter...|         Kitchen|          5|            0|          0|   N|                Y|Fabulous and wort...|Fabulous and wort...|2015-08-31 00:00:00|\n",
            "|         US|   43311049|R3V37XDZ7ZCI3L|B000GBNB8G|     491599489|Zyliss Jumbo Garl...|         Kitchen|          5|            0|          1|   N|                Y|          Five Stars|A must if you lov...|2015-08-31 00:00:00|\n",
            "|         US|   13763148|R14GU232NQFYX2|B00VJ5KX9S|     353790155|1 X Premier Pizza...|         Kitchen|          5|            0|          0|   N|                Y|     Better than sex|Worth every penny...|2015-08-31 00:00:00|\n",
            "|         US|   19009420| RZQH4V7L2O1PL|B00HYB5YY0|     432241873|       CHEF Aluminum|         Kitchen|          1|            1|          1|   N|                Y|Does not work on ...|The description s...|2015-08-31 00:00:00|\n",
            "|         US|   40599388|R1F8JMOSPJ3KO7|B000HEBAV2|     584680984|Presto Dual Profr...|         Kitchen|          5|            0|          0|   N|                Y|Awesome! First fr...|Awesome! First fr...|2015-08-31 00:00:00|\n",
            "|         US|   22719359|R1ZISGY2BWW4Z5|B0012DS4GG|     772637306|Rubbermaid Produc...|         Kitchen|          5|            0|          0|   N|                Y|          Five Stars|Very good item. Q...|2015-08-31 00:00:00|\n",
            "|         US|   47478640|R17PW4I3AE5WZW|B00FLQ4EE6|     755416578|Cuisinart 12-Piec...|         Kitchen|          5|            0|          0|   N|                Y|          Five Stars|sharp and look great|2015-08-31 00:00:00|\n",
            "|         US|   34195504|R3D93G1KTP6A8P|B00DBS9OTG|     648762742|Kegco 6\" Stainles...|         Kitchen|          3|            0|          0|   N|                Y|         Three Stars|Should have come ...|2015-08-31 00:00:00|\n",
            "|         US|   19100570|R18TQIW1NKPUNU|B00AN9UJ68|     495720940|Cuisinart Smart S...|         Kitchen|          5|            0|          0|   N|                Y|          Five Stars|  my friend loves it|2015-08-31 00:00:00|\n",
            "|         US|   10299811|R34KUNL21WU248|B00L2P0KNO|      41330497|Searzall Torch At...|         Kitchen|          4|            0|          0|   N|                Y|          Four Stars|works as expected...|2015-08-31 00:00:00|\n",
            "|         US|   32687006|R2YA1ZA53X12IN|B00NQOJQXY|     191893454|Wilton 1512-1664 ...|         Kitchen|          5|            0|          0|   N|                Y|               great|               great|2015-08-31 00:00:00|\n",
            "|         US|   43260893|R2ZD1IGC9UU55X|B00080QE1Q|     277442428|Magnalite Classic...|         Kitchen|          5|            1|          1|   N|                Y|         Great Pots!|Fantastic product...|2015-08-31 00:00:00|\n",
            "|         US|    8067227| R9J2YMVZTUVZ7|B009VU17ZM|     414077276|Sun's Tea(TM) 20o...|         Kitchen|          5|            0|          0|   N|                Y|          Five Stars|Work great, well ...|2015-08-31 00:00:00|\n",
            "|         US|   18139929|R2UUXJ0WQR0CNI|B00MY71KO2|     138697457|Adventure Time Be...|         Kitchen|          4|            0|          0|   N|                Y|              So big|holds a loooot of...|2015-08-31 00:00:00|\n",
            "|         US|   12282702|R3S9QICITG73JZ|B00A6N18CK|      48180946|DecoBros 3 Tier D...|         Kitchen|          5|            0|          0|   N|                Y|It looks nice & n...|The DecoBros K cu...|2015-08-31 00:00:00|\n",
            "|         US|   38649737|R3LISNJHS64PDA|B00AB8NOLS|      67759108|Brita Water Filte...|         Kitchen|          4|            0|          0|   N|                Y|          Four Stars| Met my expectations|2015-08-31 00:00:00|\n",
            "|         US|   33460969|R28RB82UG4RDD5|B00FB4UPA0|      10711472|Nifty Home 24 K-C...|         Kitchen|          5|           20|         20|   N|                Y| Saves counter space|Fits under my ful...|2015-08-31 00:00:00|\n",
            "|         US|   40274860|R3H0PRVII5991X|B00YMHBQ0A|     618617346|Eoonfirst Snoopy ...|         Kitchen|          5|            0|          0|   N|                Y|          Five Stars|            Love it!|2015-08-31 00:00:00|\n",
            "+-----------+-----------+--------------+----------+--------------+--------------------+----------------+-----------+-------------+-----------+----+-----------------+--------------------+--------------------+-------------------+\n",
            "only showing top 20 rows\n",
            "\n"
          ]
        }
      ]
    },
    {
      "cell_type": "markdown",
      "source": [
        " Initial exploration revealed 6 records that are not read in correctly: marketplace, customer_id, review_id, product_id, product_parent are fine, but the rest is all in product_title, including \"\\t\" separators. Here they are:"
      ],
      "metadata": {
        "id": "8nL3xFvGSHmy"
      }
    },
    {
      "cell_type": "code",
      "source": [
        "from pyspark.sql.functions import col\n",
        "df.filter(col(\"product_category\").isNull()).show(truncate=False)"
      ],
      "metadata": {
        "colab": {
          "base_uri": "https://localhost:8080/"
        },
        "id": "kBnzgKXOR8mE",
        "outputId": "76e0f8f9-9002-4dac-db77-09943613bd70"
      },
      "execution_count": 6,
      "outputs": [
        {
          "output_type": "stream",
          "name": "stdout",
          "text": [
            "+-----------+-----------+--------------+----------+--------------+--------------------------------------------------------------------------------------------------------------------------------------------------------------------------------------------------------------------------------------------------------------------------------------------------------------------------------------------------------------------------------------------------------------------------------------------------+----------------+-----------+-------------+-----------+----+-----------------+---------------+-----------+-----------+\n",
            "|marketplace|customer_id|review_id     |product_id|product_parent|product_title                                                                                                                                                                                                                                                                                                                                                                                                                                     |product_category|star_rating|helpful_votes|total_votes|vine|verified_purchase|review_headline|review_body|review_date|\n",
            "+-----------+-----------+--------------+----------+--------------+--------------------------------------------------------------------------------------------------------------------------------------------------------------------------------------------------------------------------------------------------------------------------------------------------------------------------------------------------------------------------------------------------------------------------------------------------+----------------+-----------+-------------+-----------+----+-----------------+---------------+-----------+-----------+\n",
            "|US         |29285427   |R1J9BCYO1QFPNM|B00QD66F7W|621177112     |MALACHITE - PENCIL CUP - DAC713\\tKitchen\\t5\\t0\\t0\\tN\\tY\\tFive Stars\\tBeautifully made.\\t2015-05-06                                                                                                                                                                                                                                                                                                                                                |null            |null       |null         |null       |null|null             |null           |null       |null       |\n",
            "|US         |14119677   |R29LINXAYP0J8S|B008A7HHVK|682611074     |Girls Night Out : Decorated 9 fl oz Martini Glass\\tKitchen\\t1\\t0\\t0\\tN\\tY\\tNot with it even if it was free\\tAll the decals came off the glass the second liquid was introduced.  Also the product is at Bed and Bath of $2.99.  The Amazon vender charged me $29.99.  Don't waste your money.\\t2014-02-18                                                                                                                                         |null            |null       |null         |null       |null|null             |null           |null       |null       |\n",
            "|US         |12252243   |R2GDU8SWDB36IT|B001D0MQ1M|66231646      |Celeste? Doll\\tKitchen\\t3\\t1\\t1\\tN\\tY\\tIt arrived without an earing.\\tOne of the earring was missing when it arrived. It looked like it was glued on poorly. The accessories  look pretty flimsy, but the rest of the doll (actual body) looks pretty nice.\\t2010-01-30                                                                                                                                                                           |null            |null       |null         |null       |null|null             |null           |null       |null       |\n",
            "|US         |36588330   |R8V0FJRO7VW15 |B000QHMSOI|934457078     |Laura Ashley Hydrangia Invitation Kit\\tKitchen\\t5\\t0\\t0\\tN\\tY\\tExcellent\\tMy guest were very impressed with these invitations.  I was equally impressed.  Plus, they came in my Wedding colors.  They were so elegant and pretty.  It came with all items offered too. I could not find it anywhere else for the price I paid for it with Amazon. I am very pleased with my purchase. I am a satisfied custmer with this product.\\t2009-11-18     |null            |null       |null         |null       |null|null             |null           |null       |null       |\n",
            "|US         |20908327   |R7KB5JNSX0WC0 |B000UWQP20|627258798     |Heaven Scent? Baby Powder Fresh Scented Votive Baby Shower Favors\\tKitchen\\t5\\t2\\t2\\tN\\tY\\tBaby Shower Favors\\tThese 'Heaven Scent' Baby Powder Fresh Scented Votive Baby Shower Favors were beautiful and very easy to embellish further to customize them to our lovely guest of honor.  Everyone commented on how great they were.  They were delivered on time and well packaged.  I would purchase these again for like occasion.\\t2009-02-01|null            |null       |null         |null       |null|null             |null           |null       |null       |\n",
            "|US         |35637165   |R1SOYPVWNOCMW0|B0011D1SWE|527468084     |Baby On Board? Expandable Pen in Car Seat Packaging Baby Shower Favor\\tKitchen\\t5\\t3\\t3\\tN\\tY\\tBaby pens\\tI got this to give as favors when my granddaughter was born, and everyone loved them. They are incredibly cute and everyone loves to get a pen.  A real hit!\\t2008-04-18                                                                                                                                                                |null            |null       |null         |null       |null|null             |null           |null       |null       |\n",
            "+-----------+-----------+--------------+----------+--------------+--------------------------------------------------------------------------------------------------------------------------------------------------------------------------------------------------------------------------------------------------------------------------------------------------------------------------------------------------------------------------------------------------------------------------------------------------+----------------+-----------+-------------+-----------+----+-----------------+---------------+-----------+-----------+\n",
            "\n"
          ]
        }
      ]
    },
    {
      "cell_type": "markdown",
      "source": [
        "These do not share product_id with other records, so will not corrupt uniqueness for the product table below."
      ],
      "metadata": {
        "id": "xI0QlJ3vStpn"
      }
    },
    {
      "cell_type": "code",
      "source": [
        "misread_prod_ids = ['B00QD66F7W',  'B008A7HHVK',  'B001D0MQ1M',  'B000QHMSOI',  'B000UWQP20',  'B0011D1SWE']\n",
        "df.filter(F.col(\"product_id\").isin(misread_prod_ids)).count()"
      ],
      "metadata": {
        "colab": {
          "base_uri": "https://localhost:8080/"
        },
        "id": "A8pQypeaR8in",
        "outputId": "f13a84a4-0f53-4952-91f4-3baa423d08c0"
      },
      "execution_count": 7,
      "outputs": [
        {
          "output_type": "execute_result",
          "data": {
            "text/plain": [
              "6"
            ]
          },
          "metadata": {},
          "execution_count": 7
        }
      ]
    },
    {
      "cell_type": "markdown",
      "metadata": {
        "id": "2yUSe55VY-9t"
      },
      "source": [
        "### Create and analyze the Vine DataFrame"
      ]
    },
    {
      "cell_type": "code",
      "metadata": {
        "id": "lzMmkdKmY--D",
        "colab": {
          "base_uri": "https://localhost:8080/"
        },
        "outputId": "f98754d6-82f5-4d55-acb1-84832cdf7359"
      },
      "source": [
        "# Create the vine_table. DataFrame\n",
        "vine_df = df.select(['review_id',  'star_rating',  'helpful_votes',  'total_votes',  'vine',  'verified_purchase'])\n",
        "vine_df.show(truncate=False)"
      ],
      "execution_count": 8,
      "outputs": [
        {
          "output_type": "stream",
          "name": "stdout",
          "text": [
            "+--------------+-----------+-------------+-----------+----+-----------------+\n",
            "|review_id     |star_rating|helpful_votes|total_votes|vine|verified_purchase|\n",
            "+--------------+-----------+-------------+-----------+----+-----------------+\n",
            "|R3DT59XH7HXR9K|5          |0            |0          |N   |Y                |\n",
            "|R1LFS11BNASSU8|5          |0            |1          |N   |Y                |\n",
            "|R296RT05AG0AF6|5          |0            |0          |N   |Y                |\n",
            "|R3V37XDZ7ZCI3L|5          |0            |1          |N   |Y                |\n",
            "|R14GU232NQFYX2|5          |0            |0          |N   |Y                |\n",
            "|RZQH4V7L2O1PL |1          |1            |1          |N   |Y                |\n",
            "|R1F8JMOSPJ3KO7|5          |0            |0          |N   |Y                |\n",
            "|R1ZISGY2BWW4Z5|5          |0            |0          |N   |Y                |\n",
            "|R17PW4I3AE5WZW|5          |0            |0          |N   |Y                |\n",
            "|R3D93G1KTP6A8P|3          |0            |0          |N   |Y                |\n",
            "|R18TQIW1NKPUNU|5          |0            |0          |N   |Y                |\n",
            "|R34KUNL21WU248|4          |0            |0          |N   |Y                |\n",
            "|R2YA1ZA53X12IN|5          |0            |0          |N   |Y                |\n",
            "|R2ZD1IGC9UU55X|5          |1            |1          |N   |Y                |\n",
            "|R9J2YMVZTUVZ7 |5          |0            |0          |N   |Y                |\n",
            "|R2UUXJ0WQR0CNI|4          |0            |0          |N   |Y                |\n",
            "|R3S9QICITG73JZ|5          |0            |0          |N   |Y                |\n",
            "|R3LISNJHS64PDA|4          |0            |0          |N   |Y                |\n",
            "|R28RB82UG4RDD5|5          |20           |20         |N   |Y                |\n",
            "|R3H0PRVII5991X|5          |0            |0          |N   |Y                |\n",
            "+--------------+-----------+-------------+-----------+----+-----------------+\n",
            "only showing top 20 rows\n",
            "\n"
          ]
        }
      ]
    },
    {
      "cell_type": "code",
      "source": [
        "# step 1: throw away vast majority of records, only keep only those with 20 or more votes\n",
        "voteful_df = vine_df.filter(vine_df['total_votes'] >= 20)\n",
        "# step 2: throw away a small fraction of records, keeping those where at least half the votes are \"helpful\"\n",
        "helpful_df = voteful_df.where(\"helpful_votes*2 >= total_votes\")\n",
        "# add a Yes/No column identifying 5-star reviews\n",
        "star5_df = helpful_df.withColumn('five_star', F.when(df.star_rating == 5, \"Y\").otherwise(\"N\"))\n",
        "# pivot and count to get a 2-by-2 box of the four counts requested: vine vs not-vine, and 5star vs not-5star\n",
        "simple_df = star5_df.select('vine', 'five_star').groupBy('vine').pivot('five_star').count()\n",
        "# add columns for the requested metrics, and\n",
        "# rename the column counting 5-start reviews that inherited its name from the value 'Y' of the field 'five_star'\n",
        "simple2_df = simple_df.withColumn('total reviews', simple_df['Y']+simple_df['N']).withColumnRenamed('Y', '5-star reviews')\n",
        "simple3_df = simple2_df.withColumn('percent 5-star', simple2_df['5-star reviews'] / simple2_df['total reviews'] * 100)\n",
        "# remove unwanted column counting non-5-star reviews\n",
        "output = simple3_df['vine', 'total reviews', '5-star reviews', 'percent 5-star']"
      ],
      "metadata": {
        "id": "Zg3o2poVp0sl"
      },
      "execution_count": 10,
      "outputs": []
    },
    {
      "cell_type": "markdown",
      "source": [
        "The following two dataframes are requested by the specs, but not used in my computation.\n",
        "\n",
        "\n"
      ],
      "metadata": {
        "id": "4vpEu-Gw2puR"
      }
    },
    {
      "cell_type": "code",
      "source": [
        "#the \"DataFrame where there is a Vine review\"\n",
        "only_vine = helpful_df.filter(helpful_df['vine'] == 'Y')\n",
        "only_vine.show()"
      ],
      "metadata": {
        "colab": {
          "base_uri": "https://localhost:8080/"
        },
        "id": "EZWiN5gg2Cdp",
        "outputId": "74bce8b0-0f2b-4e1f-8355-4c4c23012611"
      },
      "execution_count": 11,
      "outputs": [
        {
          "output_type": "stream",
          "name": "stdout",
          "text": [
            "+--------------+-----------+-------------+-----------+----+-----------------+\n",
            "|     review_id|star_rating|helpful_votes|total_votes|vine|verified_purchase|\n",
            "+--------------+-----------+-------------+-----------+----+-----------------+\n",
            "|R1Z71RW4J9IK93|          5|           20|         22|   Y|                N|\n",
            "|R3FVB5QI11KI9Q|          4|          192|        200|   Y|                N|\n",
            "|R2G027YBMVXV6Y|          5|           39|         48|   Y|                N|\n",
            "|R1QGBAN7BMGWRR|          5|          121|        129|   Y|                N|\n",
            "|R2NH2AU7XL9ZDZ|          3|           18|         20|   Y|                N|\n",
            "|R2YVVJ9NOPNX50|          4|           36|         41|   Y|                N|\n",
            "|R1XH1LK1FWX3OS|          4|          214|        238|   Y|                N|\n",
            "|R38LSQ71G2IZGS|          5|           26|         29|   Y|                N|\n",
            "|R2FLITQVKWXDF4|          3|           26|         34|   Y|                N|\n",
            "|R25LMMZF3DJTWY|          2|           18|         21|   Y|                N|\n",
            "|R18NC69T0KEC00|          5|           20|         23|   Y|                N|\n",
            "| ROYYZ0D9LMYS3|          5|           25|         33|   Y|                N|\n",
            "|R223CE6ERRBPRZ|          4|           82|         87|   Y|                N|\n",
            "|R1THPHKHO1BPRZ|          5|           15|         20|   Y|                N|\n",
            "|R11K4PQS62ROLS|          5|           72|         75|   Y|                N|\n",
            "| R6AZL5SA22ITL|          1|           66|         70|   Y|                N|\n",
            "| R4J2O4EHK73PR|          3|           46|         63|   Y|                N|\n",
            "| RMBQSVTJWY2A2|          5|           26|         28|   Y|                N|\n",
            "| RXLOQIB7S4OKN|          5|           31|         33|   Y|                N|\n",
            "| RLG9MEHTAGWL6|          5|           57|         63|   Y|                N|\n",
            "+--------------+-----------+-------------+-----------+----+-----------------+\n",
            "only showing top 20 rows\n",
            "\n"
          ]
        }
      ]
    },
    {
      "cell_type": "code",
      "source": [
        "# and the \"DataFrame where there isn't a Vine review\"\n",
        "only_unvine = helpful_df.filter(helpful_df['vine'] == 'N')\n",
        "only_unvine.show()"
      ],
      "metadata": {
        "colab": {
          "base_uri": "https://localhost:8080/"
        },
        "id": "TpB2zW4w2438",
        "outputId": "ebca491a-f835-4cfa-848f-47543a4690f5"
      },
      "execution_count": 12,
      "outputs": [
        {
          "output_type": "stream",
          "name": "stdout",
          "text": [
            "+--------------+-----------+-------------+-----------+----+-----------------+\n",
            "|     review_id|star_rating|helpful_votes|total_votes|vine|verified_purchase|\n",
            "+--------------+-----------+-------------+-----------+----+-----------------+\n",
            "|R28RB82UG4RDD5|          5|           20|         20|   N|                Y|\n",
            "|R3FB6BERWPEIJP|          4|           40|         43|   N|                Y|\n",
            "|R1D4Z38STRDQXK|          5|           53|         56|   N|                Y|\n",
            "|R1XMWJZICINIFX|          3|           20|         21|   N|                Y|\n",
            "|R20QKY1GABXFLM|          1|          272|        297|   N|                Y|\n",
            "|R328FA1E6FY3F5|          5|           17|         20|   N|                N|\n",
            "|R3DH22AA5WGLLS|          5|           30|         30|   N|                N|\n",
            "|R1E0E5EFZSLJCS|          1|           66|         80|   N|                Y|\n",
            "|R1TXZQWEHYWEWN|          2|           48|         51|   N|                Y|\n",
            "| RQQAI8YL3UCY2|          5|           23|         25|   N|                Y|\n",
            "|R3PZNAQREFUNJ7|          4|           28|         35|   N|                Y|\n",
            "|R1ZUNUSUEA5D0T|          2|           17|         20|   N|                Y|\n",
            "|R3SHJSHTY8AXKR|          5|           69|         72|   N|                Y|\n",
            "|R2QM1JXA2XI7XA|          3|           61|         68|   N|                Y|\n",
            "|R1SVJ6XDBCQNSN|          3|           29|         30|   N|                Y|\n",
            "|R1IEABNX71GK3B|          1|           54|         58|   N|                N|\n",
            "|R16QL1GNQVT4G9|          5|          117|        119|   N|                Y|\n",
            "|R1MV4YDD6O5UME|          5|           30|         32|   N|                N|\n",
            "|R3A8EHXA0JX7WV|          5|           18|         24|   N|                N|\n",
            "|R2M7TEVV9YSLTR|          5|           94|         96|   N|                Y|\n",
            "+--------------+-----------+-------------+-----------+----+-----------------+\n",
            "only showing top 20 rows\n",
            "\n"
          ]
        }
      ]
    },
    {
      "cell_type": "markdown",
      "source": [
        "**Here's the requested output!**"
      ],
      "metadata": {
        "id": "RevnCKMY1p6X"
      }
    },
    {
      "cell_type": "code",
      "source": [
        "output.show()"
      ],
      "metadata": {
        "colab": {
          "base_uri": "https://localhost:8080/"
        },
        "id": "325Bq9Lqp0pD",
        "outputId": "817a3295-fad5-40b8-9c8c-1087b95188f3"
      },
      "execution_count": 13,
      "outputs": [
        {
          "output_type": "stream",
          "name": "stdout",
          "text": [
            "+----+-------------+--------------+-----------------+\n",
            "|vine|total reviews|5-star reviews|   percent 5-star|\n",
            "+----+-------------+--------------+-----------------+\n",
            "|   Y|         1207|           509|42.17067108533554|\n",
            "|   N|        97839|         45858|46.87087971054488|\n",
            "+----+-------------+--------------+-----------------+\n",
            "\n"
          ]
        }
      ]
    },
    {
      "cell_type": "markdown",
      "source": [
        "Let's see how much the two filterings cut out of the dataset."
      ],
      "metadata": {
        "id": "lu4ezRYA1buv"
      }
    },
    {
      "cell_type": "code",
      "source": [
        "orig = vine_df.count()\n",
        "votef = voteful_df.count()\n",
        "per_vote = votef/orig *100\n",
        "helpf = helpful_df.count()\n",
        "per_help = helpf/votef *100\n",
        "print(f\"Original table had {orig} records.\")\n",
        "print(f\"We only kept {votef} records ( {per_vote} percent of the total ) that had 20 or more votes.\")\n",
        "print(f\"Then we only kept {helpf} records ( {per_help} percent of those) where at least half the votes were helpful.\")\n"
      ],
      "metadata": {
        "colab": {
          "base_uri": "https://localhost:8080/"
        },
        "id": "DqtFHBKCp0nF",
        "outputId": "fb12f650-b0be-4852-99c1-02733f301a9b"
      },
      "execution_count": 14,
      "outputs": [
        {
          "output_type": "stream",
          "name": "stdout",
          "text": [
            "Original table had 4880466 records.\n",
            "We only kept 107421 records ( 2.2010398187386206 percent of the total ) that had 20 or more votes.\n",
            "Then we only kept 99046 records ( 92.20357285819347 percent of those) where at least half the votes were helpful.\n"
          ]
        }
      ]
    },
    {
      "cell_type": "markdown",
      "source": [
        "I'm curious how the results will change if we include unvoteful, unhelpful reviews."
      ],
      "metadata": {
        "id": "hMcGibjM1NE2"
      }
    },
    {
      "cell_type": "code",
      "source": [
        "two_column_df = vine_df.withColumn('five_star', F.when(df.star_rating == 5, \"Y\").otherwise(\"N\"))['vine', 'five_star']\n",
        "# this time i need to remove those 6 misread records by hand\n",
        "clean_two_col_df = two_column_df.na.drop(how=\"any\")\n",
        "# pivot and count to get a 2-by-2 box of the four counts requested: vine vs not-vine, and 5star vs not-5star\n",
        "pretty_df = clean_two_col_df.select('vine', 'five_star').groupBy('vine').pivot('five_star').count()"
      ],
      "metadata": {
        "id": "mWaaqD5Rp0ic"
      },
      "execution_count": 15,
      "outputs": []
    },
    {
      "cell_type": "code",
      "source": [
        "pretty_df.show()"
      ],
      "metadata": {
        "colab": {
          "base_uri": "https://localhost:8080/"
        },
        "id": "RRtgYihmp0gY",
        "outputId": "031af661-0820-4979-a42a-925f342e30a9"
      },
      "execution_count": 16,
      "outputs": [
        {
          "output_type": "stream",
          "name": "stdout",
          "text": [
            "+----+-------+-------+\n",
            "|vine|      N|      Y|\n",
            "+----+-------+-------+\n",
            "|   Y|  12681|  11753|\n",
            "|   N|1739219|3116807|\n",
            "+----+-------+-------+\n",
            "\n"
          ]
        }
      ]
    },
    {
      "cell_type": "markdown",
      "source": [
        "So, vine reviews are still below half 5-star, but non-vine reviews are now much more than half 50-star."
      ],
      "metadata": {
        "id": "gYybNTx8xswC"
      }
    }
  ]
}